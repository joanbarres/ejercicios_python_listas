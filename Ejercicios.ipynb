{
 "cells": [
  {
   "cell_type": "markdown",
   "metadata": {},
   "source": [
    "#   Ejercicios de listas y tuplas\n",
    "\n",
    "Este repositorio contiene varios ejercicios de Python junto con las soluciones y explicaciones de cada uno: \n",
    "[Repositorio](https://github.com/joanbarres/ejercicios_python_listas)\n",
    "\n",
    "### Descripción Ejercicio 1\n",
    "\n",
    "Este ejercicio implica realizar una serie de manipulaciones en una lista dada \n",
    "\n",
    "### Ejercicio1.1\n",
    "Elimina el ultimo numero y añadelo al final"
   ]
  },
  {
   "cell_type": "code",
   "execution_count": 4,
   "metadata": {},
   "outputs": [
    {
     "name": "stdout",
     "output_type": "stream",
     "text": [
      "[23, 5, 29, 92, 64, 12]\n"
     ]
    }
   ],
   "source": [
    "lista = [12, 23, 5, 29, 92, 64]\n",
    "elemento1 = lista[0]\n",
    "lista.append(elemento1)\n",
    "lista.pop(0)\n",
    "print(lista)"
   ]
  },
  {
   "cell_type": "markdown",
   "metadata": {},
   "source": [
    "###  Ejercicio 1.2\n",
    "Mueve el segundo elemento a la ultima posición"
   ]
  },
  {
   "cell_type": "code",
   "execution_count": null,
   "metadata": {},
   "outputs": [],
   "source": [
    "lista = [12, 23, 5, 29, 92, 64]\n",
    "elemento2 = lista[1]\n",
    "lista.append(elemento2)\n",
    "lista.pop(0)\n",
    "print(lista)"
   ]
  },
  {
   "cell_type": "markdown",
   "metadata": {},
   "source": [
    "### Ejercicio 1.3\n",
    "Añade el numero 14 al principio de la lista"
   ]
  },
  {
   "cell_type": "code",
   "execution_count": 6,
   "metadata": {},
   "outputs": [
    {
     "name": "stdout",
     "output_type": "stream",
     "text": [
      "[14, 12, 23, 5, 29, 92, 64]\n"
     ]
    }
   ],
   "source": [
    "lista = [12, 23, 5, 29, 92, 64]\n",
    "lista.insert(0, 14)\n",
    "print(lista)"
   ]
  },
  {
   "cell_type": "markdown",
   "metadata": {},
   "source": [
    "### Ejercicio 1.4\n",
    "Suma todos los numeros de la lista y añade el resultado al final de la lista"
   ]
  },
  {
   "cell_type": "code",
   "execution_count": null,
   "metadata": {},
   "outputs": [],
   "source": [
    "lista = [14, 12, 23, 5, 29, 92, 64]\n",
    "for elemento in lista:\n",
    "    resultado = resultado + elemento\n",
    "lista.append(resultado)\n",
    "print(lista)"
   ]
  },
  {
   "cell_type": "markdown",
   "metadata": {},
   "source": [
    "### EJercicio 1.5 \n",
    "Fusiona la lista 1 y 2"
   ]
  },
  {
   "cell_type": "code",
   "execution_count": 8,
   "metadata": {},
   "outputs": [
    {
     "name": "stdout",
     "output_type": "stream",
     "text": [
      "[14, 12, 23, 5, 29, 92, 64, 4, 11, 32]\n"
     ]
    }
   ],
   "source": [
    "lista1 = [14, 12, 23, 5, 29, 92, 64]\n",
    "lista2 = [4, 11, 32]\n",
    "\n",
    "lista1.extend(lista2)\n",
    "print(lista1)"
   ]
  },
  {
   "cell_type": "markdown",
   "metadata": {},
   "source": [
    "### Ejercicio 1.6 \n",
    "Elimina todos los numeros pares de la lista"
   ]
  },
  {
   "cell_type": "code",
   "execution_count": 16,
   "metadata": {},
   "outputs": [
    {
     "name": "stdout",
     "output_type": "stream",
     "text": [
      "[]\n"
     ]
    }
   ],
   "source": [
    "lista = [14, 64, 23, 5, 29, 92, 12, 239, 4, 11, 32]\n",
    "for elemento in lista:\n",
    "    if elemento % 2 != 0:\n",
    "        lista.remove(elemento)\n",
    "\n",
    "print(lista)\n"
   ]
  },
  {
   "cell_type": "markdown",
   "metadata": {},
   "source": [
    "### Ejercicio 1.7 \n",
    "\n",
    "Ordena la lista de manera ascendente"
   ]
  },
  {
   "cell_type": "code",
   "execution_count": 11,
   "metadata": {},
   "outputs": [
    {
     "name": "stdout",
     "output_type": "stream",
     "text": [
      "[4, 12, 14, 32, 64, 92]\n"
     ]
    }
   ],
   "source": [
    "lista = [14, 64, 92, 12, 4, 32]\n",
    "lista.sort()\n",
    "print(lista)"
   ]
  },
  {
   "cell_type": "markdown",
   "metadata": {},
   "source": [
    "### Ejercicio 1.8 \n",
    "Vacia la lista"
   ]
  },
  {
   "cell_type": "code",
   "execution_count": 14,
   "metadata": {},
   "outputs": [
    {
     "name": "stdout",
     "output_type": "stream",
     "text": [
      "[]\n"
     ]
    }
   ],
   "source": [
    "lista = [4, 12, 14, 32, 64, 92]\n",
    "lista.clear()\n",
    "print(lista)"
   ]
  },
  {
   "cell_type": "markdown",
   "metadata": {},
   "source": [
    "## Descripcion Ejercicio2\n",
    "\n",
    "1. Crear un programa que solicite al usuario 5 números y los guarde en una lista. \n",
    "2. A continuación el programa pedirá otros 5 números al usuario almacenándolos en una segunda lista. \n",
    "3. El programa mostrará al usuario una lista que contenga los números que tienen en común ambas listas anteriores"
   ]
  },
  {
   "cell_type": "code",
   "execution_count": 24,
   "metadata": {},
   "outputs": [
    {
     "name": "stdout",
     "output_type": "stream",
     "text": [
      "Introduce 5 numeros para el usuario 1\n"
     ]
    },
    {
     "ename": "ValueError",
     "evalue": "invalid literal for int() with base 10: ''",
     "output_type": "error",
     "traceback": [
      "\u001b[0;31m---------------------------------------------------------------------------\u001b[0m",
      "\u001b[0;31mValueError\u001b[0m                                Traceback (most recent call last)",
      "Cell \u001b[0;32mIn[24], line 7\u001b[0m\n\u001b[1;32m      5\u001b[0m \u001b[38;5;28mprint\u001b[39m(\u001b[38;5;124m\"\u001b[39m\u001b[38;5;124mIntroduce 5 numeros para el usuario 1\u001b[39m\u001b[38;5;124m\"\u001b[39m)\n\u001b[1;32m      6\u001b[0m \u001b[38;5;28;01mwhile\u001b[39;00m numerosSolicitados \u001b[38;5;241m>\u001b[39m \u001b[38;5;241m0\u001b[39m :\n\u001b[0;32m----> 7\u001b[0m     listaUsuario1\u001b[38;5;241m.\u001b[39mappend(\u001b[38;5;28;43mint\u001b[39;49m\u001b[43m(\u001b[49m\u001b[38;5;28;43minput\u001b[39;49m\u001b[43m(\u001b[49m\u001b[43m)\u001b[49m\u001b[43m)\u001b[49m)\n\u001b[1;32m      8\u001b[0m     numerosSolicitados \u001b[38;5;241m=\u001b[39m numerosSolicitados \u001b[38;5;241m-\u001b[39m\u001b[38;5;241m1\u001b[39m\n\u001b[1;32m      9\u001b[0m numerosSolicitados \u001b[38;5;241m=\u001b[39m \u001b[38;5;241m5\u001b[39m\n",
      "\u001b[0;31mValueError\u001b[0m: invalid literal for int() with base 10: ''"
     ]
    }
   ],
   "source": [
    "listaUsuario1 = []\n",
    "listaUsuario2 = []\n",
    "listaResultado = []\n",
    "numerosSolicitados = 4\n",
    "print(\"Introduce 5 numeros para el usuario 1\")\n",
    "while numerosSolicitados > 0 :\n",
    "    listaUsuario1.append(int(input()))\n",
    "    numerosSolicitados = numerosSolicitados -1\n",
    "numerosSolicitados = 4\n",
    "print(\"Introduce 5 numeros para el usuario 2\")\n",
    "while numerosSolicitados > 0 :\n",
    "    listaUsuario2.append(int(input()))\n",
    "    numerosSolicitados = numerosSolicitados -1\n",
    "\n",
    "for elemento1 in listaUsuario1:\n",
    "    for elemento2 in listaUsuario2:\n",
    "        if elemento1 == elemento2:\n",
    "            listaResultado.append(elemento1)\n",
    "\n",
    "print(listaResultado)"
   ]
  }
 ],
 "metadata": {
  "kernelspec": {
   "display_name": "Python 3",
   "language": "python",
   "name": "python3"
  },
  "language_info": {
   "codemirror_mode": {
    "name": "ipython",
    "version": 3
   },
   "file_extension": ".py",
   "mimetype": "text/x-python",
   "name": "python",
   "nbconvert_exporter": "python",
   "pygments_lexer": "ipython3",
   "version": "3.11.5"
  }
 },
 "nbformat": 4,
 "nbformat_minor": 2
}
